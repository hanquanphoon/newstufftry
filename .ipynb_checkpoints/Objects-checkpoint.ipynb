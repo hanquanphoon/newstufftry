{
 "cells": [
  {
   "cell_type": "markdown",
   "metadata": {},
   "source": [
    "Objects in Python are usually for very experienced developers. One use is defining mathematical objects. Let's start with a simple example of two-dimensional vectors."
   ]
  },
  {
   "cell_type": "code",
   "execution_count": 1,
   "metadata": {},
   "outputs": [],
   "source": [
    "class vector:\n",
    "    def __init__(self,x,y):\n",
    "        self.x = x\n",
    "        self.y = y"
   ]
  },
  {
   "cell_type": "markdown",
   "metadata": {},
   "source": [
    "Define a <code>\\__repr\\__</code> method so <code>print</code> does not give the less useful memory location."
   ]
  },
  {
   "cell_type": "code",
   "execution_count": 4,
   "metadata": {},
   "outputs": [
    {
     "data": {
      "text/plain": [
       "(1,2)"
      ]
     },
     "execution_count": 4,
     "metadata": {},
     "output_type": "execute_result"
    }
   ],
   "source": [
    "class vector:\n",
    "    def __init__(self,x,y):\n",
    "        self.x = x\n",
    "        self.y = y\n",
    "        \n",
    "    def __repr__(self):\n",
    "        return \"({},{})\".format(self.x,self.y)\n",
    "    \n",
    "a = vector(1,2)\n",
    "a"
   ]
  },
  {
   "cell_type": "markdown",
   "metadata": {},
   "source": [
    "Use double underscore methods to define scalar multiplication and addition of vectors."
   ]
  },
  {
   "cell_type": "code",
   "execution_count": 15,
   "metadata": {},
   "outputs": [
    {
     "name": "stdout",
     "output_type": "stream",
     "text": [
      "(4,6)\n",
      "(2,4)\n",
      "(9,12)\n"
     ]
    }
   ],
   "source": [
    "class vector:\n",
    "    def __init__(self,x,y):\n",
    "        self.x = x\n",
    "        self.y = y\n",
    "        \n",
    "    def __mul__(self,other):\n",
    "        x = self.x * other\n",
    "        y = self.y * other\n",
    "        return vector(x,y)\n",
    "    \n",
    "    def __rmul__(self,other):\n",
    "        x = self.x * other\n",
    "        y = self.y * other\n",
    "        return vector(x,y)\n",
    "    \n",
    "    def __add__(self,other):\n",
    "        x = self.x + other.x\n",
    "        y = self.y + other.y\n",
    "        return vector(x,y)\n",
    "    \n",
    "    def __repr__(self):\n",
    "        return \"({},{})\".format(self.x,self.y)\n",
    "\n",
    "a = vector(1,2)\n",
    "b = vector(3,4)\n",
    "print (a+b)\n",
    "print (a*2)\n",
    "print (3*b)"
   ]
  },
  {
   "cell_type": "markdown",
   "metadata": {},
   "source": [
    "The <code>\\__rmul\\__</code> function is needed so both <code>a\\*2</code> and <code>2\\*a</code> work. We can also define <code>\\__rmul\\__</code> in terms of <code>\\__mul\\__</code> to make explicit they are always the same."
   ]
  },
  {
   "cell_type": "code",
   "execution_count": null,
   "metadata": {},
   "outputs": [],
   "source": [
    "class vector:\n",
    "    def __init__(self,x,y):\n",
    "        self.x = x\n",
    "        self.y = y\n",
    "        \n",
    "    def __mul__(self,other):\n",
    "        x = self.x * other\n",
    "        y = self.y * other\n",
    "        return vector(x,y)\n",
    "    \n",
    "    def __rmul__(self,other):\n",
    "        return vector.__mul__(self,other)\n",
    "    \n",
    "    def __add__(self,other):\n",
    "        x = self.x + other.x\n",
    "        y = self.y + other.y\n",
    "        return vector(x,y)\n",
    "    \n",
    "    def __repr__(self):\n",
    "        return \"({},{})\".format(self.x,self.y)"
   ]
  },
  {
   "cell_type": "markdown",
   "metadata": {},
   "source": [
    "Vectors have properties of length."
   ]
  },
  {
   "cell_type": "code",
   "execution_count": 17,
   "metadata": {},
   "outputs": [
    {
     "data": {
      "text/plain": [
       "2.23606797749979"
      ]
     },
     "execution_count": 17,
     "metadata": {},
     "output_type": "execute_result"
    }
   ],
   "source": [
    "class vector:\n",
    "    def __init__(self,x,y):\n",
    "        self.x = x\n",
    "        self.y = y\n",
    "        \n",
    "    def __mul__(self,other):\n",
    "        x = self.x * other\n",
    "        y = self.y * other\n",
    "        return vector(x,y)\n",
    "    \n",
    "    def __rmul__(self,other):\n",
    "        x = self.x * other\n",
    "        y = self.y * other\n",
    "        return vector(x,y)\n",
    "    \n",
    "    def __add__(self,other):\n",
    "        x = self.x + other.x\n",
    "        y = self.y + other.y\n",
    "        return vector(x,y)\n",
    "    \n",
    "    def __repr__(self):\n",
    "        return \"({},{})\".format(self.x,self.y)\n",
    "    \n",
    "    def magnitude(self):\n",
    "        return (self.x**2+self.y**2)**0.5\n",
    "    \n",
    "a = vector(1,2)\n",
    "a.magnitude()"
   ]
  },
  {
   "cell_type": "markdown",
   "metadata": {},
   "source": [
    "Define dot product of two vectors."
   ]
  },
  {
   "cell_type": "code",
   "execution_count": 19,
   "metadata": {},
   "outputs": [
    {
     "name": "stdout",
     "output_type": "stream",
     "text": [
      "11\n",
      "11\n"
     ]
    }
   ],
   "source": [
    "class vector:\n",
    "    def __init__(self,x,y):\n",
    "        self.x = x\n",
    "        self.y = y\n",
    "        \n",
    "    def __mul__(self,other):\n",
    "        x = self.x * other\n",
    "        y = self.y * other\n",
    "        return vector(x,y)\n",
    "    \n",
    "    def __rmul__(self,other):\n",
    "        x = self.x * other\n",
    "        y = self.y * other\n",
    "        return vector(x,y)\n",
    "    \n",
    "    def __add__(self,other):\n",
    "        x = self.x + other.x\n",
    "        y = self.y + other.y\n",
    "        return vector(x,y)\n",
    "    \n",
    "    def __repr__(self):\n",
    "        return \"({},{})\".format(self.x,self.y)\n",
    "    \n",
    "    def magnitude(self):\n",
    "        return (self.x**2+self.y**2)**0.5\n",
    "    \n",
    "    def dot(self,other):\n",
    "        return self.x*other.x + self.y*other.y\n",
    "    \n",
    "a = vector(1,2)\n",
    "b = vector(3,4)\n",
    "print(a.dot(b))\n",
    "print(b.dot(a))"
   ]
  },
  {
   "cell_type": "markdown",
   "metadata": {},
   "source": [
    "Task: Modify the class definition to include the z-direction. Make the y and z components optional, with default value of 0. Add the definition of cross product."
   ]
  },
  {
   "cell_type": "code",
   "execution_count": 25,
   "metadata": {
    "tags": [
     "\"hide_input\"",
     "\"hide_output\""
    ]
   },
   "outputs": [],
   "source": [
    "#comment\n",
    "class vector:\n",
    "    def __init__(self,x,y=0,z=0):\n",
    "        self.x = x\n",
    "        self.y = y\n",
    "        self.z = z\n",
    "        \n",
    "    def __repr__(self):\n",
    "        return \"({},{},{})\".format(self.x,self.y,self.z)\n",
    "    \n",
    "    def __mul__(self,other):\n",
    "        x = self.x * other\n",
    "        y = self.y * other\n",
    "        z = self.z * other\n",
    "        return vector(x,y,z)\n",
    "    \n",
    "    def __rmul__(self,other):\n",
    "        return vector.__mul__(self,other)\n",
    "    \n",
    "    def __add__(self,other):\n",
    "        x = self.x + other.x\n",
    "        y = self.y + other.y\n",
    "        z = self.z + other.z\n",
    "        return vector(x,y,z)\n",
    "    \n",
    "    def magnitude(self):\n",
    "        return (self.x**2+self.y**2+self.z**2)**0.5\n",
    "    \n",
    "    def dot(self,other):\n",
    "        return self.x*other.x + self.y*other.y + self.z*other.z\n",
    "    \n",
    "    def cross(self,other):\n",
    "        x = self.y*other.z - self.z*other.y\n",
    "        y = self.z*other.x - self.x*other.z\n",
    "        z = self.x*other.y - self.y*other.x\n",
    "        return vector(x,y,z)\n"
   ]
  },
  {
   "cell_type": "code",
   "execution_count": 23,
   "metadata": {},
   "outputs": [
    {
     "data": {
      "text/plain": [
       "(0,0,1)"
      ]
     },
     "execution_count": 23,
     "metadata": {},
     "output_type": "execute_result"
    }
   ],
   "source": [
    "a = vector(1)\n",
    "b = vector(0,1)\n",
    "a.cross(b)"
   ]
  },
  {
   "cell_type": "code",
   "execution_count": null,
   "metadata": {},
   "outputs": [],
   "source": []
  }
 ],
 "metadata": {
  "kernelspec": {
   "display_name": "Python 3",
   "language": "python",
   "name": "python3"
  },
  "language_info": {
   "codemirror_mode": {
    "name": "ipython",
    "version": 3
   },
   "file_extension": ".py",
   "mimetype": "text/x-python",
   "name": "python",
   "nbconvert_exporter": "python",
   "pygments_lexer": "ipython3",
   "version": "3.7.5"
  }
 },
 "nbformat": 4,
 "nbformat_minor": 2
}
